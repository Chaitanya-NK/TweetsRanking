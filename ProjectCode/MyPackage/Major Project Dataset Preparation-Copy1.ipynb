{
 "cells": [
  {
   "cell_type": "code",
   "execution_count": null,
   "metadata": {},
   "outputs": [],
   "source": [
    "# Import required libraries\n",
    "import torch\n",
    "from transformers import BertTokenizer, BertForSequenceClassification\n",
    "import pandas as pd\n",
    "df=pd.read_csv('twitter_sentiment_dataset.csv')\n",
    "# Load pre-trained BERT model and tokenizer\n",
    "tokenizer = BertTokenizer.from_pretrained('bert-base-uncased')\n",
    "model = BertForSequenceClassification.from_pretrained('bert-base-uncased', num_labels=2)\n",
    "\n",
    "# Define function to rank disaster-related tweets\n",
    "def rank_disaster_tweets(tweet_list):\n",
    "    # Tokenize tweets\n",
    "    tokenized_tweets = tokenizer(tweet_list, padding=True, truncation=True, return_tensors='pt')\n",
    "    \n",
    "    # Use BERT model to get prediction scores\n",
    "    outputs = model(**tokenized_tweets)\n",
    "    scores = torch.softmax(outputs[0], dim=1)[:, 1].tolist() # Get score for the \"disaster\" class\n",
    "    \n",
    "    # Rank tweets by score\n",
    "    ranked_tweets = sorted(zip(tweet_list, scores), key=lambda x: x[1], reverse=True)\n",
    "    \n",
    "    return ranked_tweets\n",
    "\n",
    "rank_disaster_tweets(df['Tweet'].values.tolist())"
   ]
  }
 ],
 "metadata": {
  "colab": {
   "provenance": []
  },
  "kernelspec": {
   "display_name": "Python 3 (ipykernel)",
   "language": "python",
   "name": "python3"
  },
  "language_info": {
   "codemirror_mode": {
    "name": "ipython",
    "version": 3
   },
   "file_extension": ".py",
   "mimetype": "text/x-python",
   "name": "python",
   "nbconvert_exporter": "python",
   "pygments_lexer": "ipython3",
   "version": "3.9.12"
  }
 },
 "nbformat": 4,
 "nbformat_minor": 1
}
